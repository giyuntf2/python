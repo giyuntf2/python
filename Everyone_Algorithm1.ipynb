{
  "nbformat": 4,
  "nbformat_minor": 0,
  "metadata": {
    "colab": {
      "name": "Everyone_Algorithm1.ipynb",
      "provenance": [],
      "authorship_tag": "ABX9TyPenY5q2SUAuvHo3yIcsaDg",
      "include_colab_link": true
    },
    "kernelspec": {
      "name": "python3",
      "display_name": "Python 3"
    },
    "language_info": {
      "name": "python"
    }
  },
  "cells": [
    {
      "cell_type": "markdown",
      "metadata": {
        "id": "view-in-github",
        "colab_type": "text"
      },
      "source": [
        "<a href=\"https://colab.research.google.com/github/giyuntf2/python/blob/master/Everyone_Algorithm1.ipynb\" target=\"_parent\"><img src=\"https://colab.research.google.com/assets/colab-badge.svg\" alt=\"Open In Colab\"/></a>"
      ]
    },
    {
      "cell_type": "markdown",
      "source": [
        "1부터 n까지 더하는 알고리즘은 다음과 같다\n",
        "1. 합을 기록할 변수 s를 만들고 0을 저장.\n",
        "2. 변수 i을 for문에 선언하여 n까지 숫자를 1씩 증가시킨다.\n",
        "3. [반복 블록] s에 i 값을 더한 후 저장.\n",
        "4. 반복이 끝난 경우 s의 값이 return 값이 된다."
      ],
      "metadata": {
        "id": "9gf1reLrsVUt"
      }
    },
    {
      "cell_type": "code",
      "execution_count": 13,
      "metadata": {
        "colab": {
          "base_uri": "https://localhost:8080/"
        },
        "id": "ErmOu50ep528",
        "outputId": "90eaa2e3-7674-411a-ab28-35a3a6983e7e"
      },
      "outputs": [
        {
          "output_type": "stream",
          "name": "stdout",
          "text": [
            "1번째의 sum값은 : 1 입니다\n",
            "2번째의 sum값은 : 3 입니다\n",
            "3번째의 sum값은 : 6 입니다\n",
            "4번째의 sum값은 : 10 입니다\n",
            "5번째의 sum값은 : 15 입니다\n",
            "6번째의 sum값은 : 21 입니다\n",
            "7번째의 sum값은 : 28 입니다\n",
            "8번째의 sum값은 : 36 입니다\n",
            "9번째의 sum값은 : 45 입니다\n",
            "10번째의 sum값은 : 55 입니다\n"
          ]
        },
        {
          "output_type": "execute_result",
          "data": {
            "text/plain": [
              "55"
            ]
          },
          "metadata": {},
          "execution_count": 13
        }
      ],
      "source": [
        "#1부터 n까지의 합을 구하는 방법 1번\n",
        "#합을 계산할 변수를 선언하고, s에 i 값을 더한다.\n",
        "\n",
        "def sum(x):\n",
        "  s = 0\n",
        "  for i in range(1, x+1):\n",
        "    s += i\n",
        "    print(\"%d번째의 sum값은 : %d 입니다\" % (i, s))\n",
        "  return s\n",
        "\n",
        "sum(10)"
      ]
    },
    {
      "cell_type": "markdown",
      "source": [
        "또 하나의 방법이 있다.\n",
        "1. 1 + 10 = 11이다.\n",
        "2. 2 + 9 = 11이다.\n",
        "3. 1, 2번 방식을 숫자 모두 사용하면 5번 가능하다.\n",
        "4. 해당 방식은 n(n+1)/2 로 공식화가 가능하다."
      ],
      "metadata": {
        "id": "Q7PS_LqLswPI"
      }
    },
    {
      "cell_type": "code",
      "source": [
        "def sum(n):\n",
        "  return n*(n+1)//2\n",
        "\n",
        "sum(10)"
      ],
      "metadata": {
        "colab": {
          "base_uri": "https://localhost:8080/"
        },
        "id": "vIL7KQjgsT6J",
        "outputId": "1b2cca96-0cdc-4ba5-b8f7-3940c20a7c32"
      },
      "execution_count": 15,
      "outputs": [
        {
          "output_type": "execute_result",
          "data": {
            "text/plain": [
              "55"
            ]
          },
          "metadata": {},
          "execution_count": 15
        }
      ]
    },
    {
      "cell_type": "code",
      "source": [
        "#1^2 + 2^2 + ... + x^2 제곱 만들기 1\n",
        "def squared_sum(x):\n",
        "  s = 0\n",
        "  for i in range(1, x+1):\n",
        "    i = i**2\n",
        "    s += i\n",
        "  return s\n",
        "\n",
        "squared_sum(10)  "
      ],
      "metadata": {
        "colab": {
          "base_uri": "https://localhost:8080/"
        },
        "id": "4gCgS2_AtzmT",
        "outputId": "14db0907-ecc8-45ef-9588-6c99e6866d3d"
      },
      "execution_count": 16,
      "outputs": [
        {
          "output_type": "execute_result",
          "data": {
            "text/plain": [
              "385"
            ]
          },
          "metadata": {},
          "execution_count": 16
        }
      ]
    },
    {
      "cell_type": "code",
      "source": [
        "#1^2 + 2^2 + ... + x^2 제곱 만들기 2 (n의 2제곱 더하는 공식, 시그마 활용)\n",
        "def squared_sum(n):\n",
        "  return n*((n+1)*(2*n+1))/6\n",
        "\n",
        "squared_sum(10)"
      ],
      "metadata": {
        "colab": {
          "base_uri": "https://localhost:8080/"
        },
        "id": "q_Fhfw2_vUzF",
        "outputId": "e8caf441-a7ae-4d23-89b6-1738ec3980f3"
      },
      "execution_count": 22,
      "outputs": [
        {
          "output_type": "execute_result",
          "data": {
            "text/plain": [
              "385.0"
            ]
          },
          "metadata": {},
          "execution_count": 22
        }
      ]
    }
  ]
}